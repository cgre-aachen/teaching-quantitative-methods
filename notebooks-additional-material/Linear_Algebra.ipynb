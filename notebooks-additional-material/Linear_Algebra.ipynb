{
 "cells": [
  {
   "cell_type": "markdown",
   "metadata": {
    "slideshow": {
     "slide_type": "slide"
    }
   },
   "source": [
    "<a id=\"nbtop\"></a>\n",
    "# Exercise: Linear Algebra with Python\n",
    "\n",
    "## Content:\n",
    "* [Introduction](#nbintro)\n",
    "* [Linear algebra operations with Python](#nblinalg)\n",
    "    * [Creating vectors and matrices](#nbvecmat)\n",
    "* [Apply learnt methods to solve equations](#nbapply)\n",
    "* [Better way to solve equations](#nbimprove)\n",
    "* [Creating a larger \"special\" matrix](#nbcreate)"
   ]
  },
  {
   "cell_type": "markdown",
   "metadata": {},
   "source": [
    "<a id=\"nbintro\"></a>\n",
    "## Introduction\n",
    "You now have a good understanding of using Python for scientific calculations, so it is time to apply your knowledge to solve reservoir engineering problems with numerical methods!\n",
    "\n",
    "As discussed in the lecture, the basics steps to solve practical problems, described with partial differential equations, with numerical methods are:\n",
    "\n",
    "1. Discretise the equation with a suitable method to derive a system of algebraic equations (SAE)\n",
    "2. Solve that system of algebraic equations for a given set of boundary (and initial) conditions.\n",
    "\n",
    "Today, we will actually start first with a look at the second step - and the extension to the first step will become clear during the next lecture!\n",
    "\n",
    "We will first have a look at some basic linear algebra operations and how they can be implemented in Python, and then start to use those methods to solve equations. Finally, we will write a function to create a special type of matrix that we will encounter again in the lecture - and solve this matrix with the discussed methods."
   ]
  },
  {
   "cell_type": "code",
   "execution_count": 1,
   "metadata": {},
   "outputs": [],
   "source": [
    "# the basic imports:\n",
    "import numpy as np\n",
    "import matplotlib.pyplot as plt\n",
    "%matplotlib inline"
   ]
  },
  {
   "cell_type": "markdown",
   "metadata": {},
   "source": [
    "<a id=\"nbintro\"></a>\n",
    "## Linear algebra operations with Python\n",
    "The Python module `numpy` contains several methods to perform linear algebra operations. For a complete list, see:\n",
    "\n",
    "http://docs.scipy.org/doc/numpy/reference/routines.linalg.html\n",
    "\n",
    "Here some important operations:"
   ]
  },
  {
   "cell_type": "markdown",
   "metadata": {},
   "source": [
    "<a id=\"nbvecmat\"></a>\n",
    "### Creating vectors and matrices\n",
    "Vectors can simply be represented as 1-d numpy arrays and matrices as multi-dimensional numpy arrays:"
   ]
  },
  {
   "cell_type": "code",
   "execution_count": 2,
   "metadata": {},
   "outputs": [],
   "source": [
    "# create vectors as numpy arrays from a Python list:\n",
    "v1 = np.array([1,2])\n",
    "v2 = np.array([3,4])\n",
    "# create a matrix as 2-D numpy array from a nested Python list:\n",
    "A = np.array([[1,2],[3,4]])"
   ]
  },
  {
   "cell_type": "code",
   "execution_count": 3,
   "metadata": {},
   "outputs": [
    {
     "name": "stdout",
     "output_type": "stream",
     "text": [
      "[1 2]\n",
      "[[1 2]\n",
      " [3 4]]\n"
     ]
    }
   ],
   "source": [
    "print(v1)\n",
    "print(A)"
   ]
  },
  {
   "cell_type": "markdown",
   "metadata": {},
   "source": [
    "We can use a variety of typical operations on these objects. The transpose of a matrix can be obtained with:"
   ]
  },
  {
   "cell_type": "code",
   "execution_count": 4,
   "metadata": {},
   "outputs": [
    {
     "name": "stdout",
     "output_type": "stream",
     "text": [
      "[1 2]\n",
      "[[1 3]\n",
      " [2 4]]\n"
     ]
    }
   ],
   "source": [
    "# transpose - note: no effect on vector!\n",
    "print(v1.transpose())\n",
    "print(A.transpose())"
   ]
  },
  {
   "cell_type": "markdown",
   "metadata": {},
   "source": [
    "The dot product between two vectors can be calculated with the `numpy.dot` "
   ]
  },
  {
   "cell_type": "code",
   "execution_count": 5,
   "metadata": {},
   "outputs": [
    {
     "name": "stdout",
     "output_type": "stream",
     "text": [
      "[1 2] [3 4]\n",
      "11\n"
     ]
    }
   ],
   "source": [
    "print(v1, v2)\n",
    "print(np.dot(v1, v2))"
   ]
  },
  {
   "cell_type": "markdown",
   "metadata": {},
   "source": [
    "**Exercise**: What is the difference between the dot product and a normal multiplication of vectors with the \"\\*\" operator? Try it out:"
   ]
  },
  {
   "cell_type": "code",
   "execution_count": 6,
   "metadata": {},
   "outputs": [],
   "source": [
    "# your code here:"
   ]
  },
  {
   "cell_type": "markdown",
   "metadata": {},
   "source": [
    "The dot-product between a vector and a matrix can be calculated with:"
   ]
  },
  {
   "cell_type": "code",
   "execution_count": 7,
   "metadata": {},
   "outputs": [
    {
     "name": "stdout",
     "output_type": "stream",
     "text": [
      "[1 2]\n",
      "[[1 2]\n",
      " [3 4]]\n"
     ]
    },
    {
     "data": {
      "text/plain": [
       "array([ 7, 10])"
      ]
     },
     "execution_count": 7,
     "metadata": {},
     "output_type": "execute_result"
    }
   ],
   "source": [
    "print(v1)\n",
    "print(A)\n",
    "np.dot(v1,A)"
   ]
  },
  {
   "cell_type": "markdown",
   "metadata": {},
   "source": [
    "**Exercise**: what happens if you swap the order in the dot operation? Think about it first - and then try it out. Do you understand what happens?"
   ]
  },
  {
   "cell_type": "code",
   "execution_count": 8,
   "metadata": {},
   "outputs": [
    {
     "data": {
      "text/plain": [
       "array([ 5, 11])"
      ]
     },
     "execution_count": 8,
     "metadata": {},
     "output_type": "execute_result"
    }
   ],
   "source": [
    "# your code here\n",
    "\n",
    "np.dot(A,v1)"
   ]
  },
  {
   "cell_type": "markdown",
   "metadata": {},
   "source": [
    "Inner product: `numpy` also contains a method to calculate the general inner product: \n",
    "   \n",
    "    np.inner()\n",
    "    \n",
    "**Exercise**: Try out the example of before, but using the inner product instead of the dot product. Can you see the difference? Which important property is different for the two cases?"
   ]
  },
  {
   "cell_type": "code",
   "execution_count": 9,
   "metadata": {},
   "outputs": [],
   "source": [
    "# your code here\n"
   ]
  },
  {
   "cell_type": "markdown",
   "metadata": {},
   "source": [
    "Matrix inversion: the inverse of a matrix can directly be obtained with the `numpy.linalg.inv()` method:"
   ]
  },
  {
   "cell_type": "code",
   "execution_count": 10,
   "metadata": {},
   "outputs": [],
   "source": [
    "# your code: caluclate inverse of A\n"
   ]
  },
  {
   "cell_type": "markdown",
   "metadata": {},
   "source": [
    "For today, we will leave it with symmetrical matrices - more complex cases will come, soon!"
   ]
  },
  {
   "cell_type": "markdown",
   "metadata": {
    "slideshow": {
     "slide_type": "slide"
    }
   },
   "source": [
    "<a id=\"nbapply\"></a>\n",
    "## Applying these methods to solve equations"
   ]
  },
  {
   "cell_type": "markdown",
   "metadata": {},
   "source": [
    "We can directly use these methods to solve systems of linear equations (if the number of unknowns is equal to the number of equations), i.e.:\n",
    "\n",
    "$$ a_{11} x_1 + a_{12} x_2 = b_1$$\n",
    "$$ a_{21} x_1 + a_{22} x_2 = b_2$$\n",
    "\n",
    "gives us:\n",
    "\n",
    "$$A x = b$$\n",
    "\n",
    "**Exercise**: solve this system of the following linear equations using matrix inversion:\n",
    "\n",
    "$$ -2 x_1 + x_2 = -1$$\n",
    "$$ x_1 - 2 x_2 = -4$$"
   ]
  },
  {
   "cell_type": "code",
   "execution_count": 11,
   "metadata": {},
   "outputs": [],
   "source": [
    "# your code here:\n"
   ]
  },
  {
   "cell_type": "markdown",
   "metadata": {},
   "source": [
    "Make sure to check if you did get the correct result (hint: make sure you use the dot product for the vector-matrix product):"
   ]
  },
  {
   "cell_type": "code",
   "execution_count": 12,
   "metadata": {},
   "outputs": [],
   "source": [
    "# your code here:"
   ]
  },
  {
   "cell_type": "markdown",
   "metadata": {},
   "source": [
    "**Spoiler alert**: Have a look at the result vector `x` that you calculated before: do you observe something interesting? Wait until the next lecture to learn more about it!"
   ]
  },
  {
   "cell_type": "markdown",
   "metadata": {},
   "source": [
    "<a id=\"nbimprove\"></a>\n",
    "## Better ways to solve equations\n",
    "We discussed briefly in the lecture that calculating and using the inverse of a matrix can be very memory-intense and has a limited efficiency (and, in addition, it poses significant problems for high-performance computing on multiple separate computers).\n",
    "\n",
    "`numpy` contains a dedicated method to solve these systems of equations, the `numpy.linalg.solve()` method. This method is based on routines of the famous computational linear algebra package LAPACK that I mentioned before (http://en.wikipedia.org/wiki/LAPACK).\n",
    "\n",
    "**Exercise**: use this function to solve the above system of equations:"
   ]
  },
  {
   "cell_type": "code",
   "execution_count": 13,
   "metadata": {},
   "outputs": [],
   "source": [
    "# your code here\n"
   ]
  },
  {
   "cell_type": "markdown",
   "metadata": {},
   "source": [
    "I told you before that you should never trust anyone who claims that a certain code runs faster than another code - so check yourself if my claim above is true:\n",
    "\n",
    "**Exercise**: use the cell magic function `%%timeit` to compare the execution times for both methods to solve the equation:"
   ]
  },
  {
   "cell_type": "code",
   "execution_count": null,
   "metadata": {},
   "outputs": [],
   "source": []
  },
  {
   "cell_type": "code",
   "execution_count": null,
   "metadata": {},
   "outputs": [],
   "source": []
  },
  {
   "cell_type": "markdown",
   "metadata": {},
   "source": [
    "What did you observe? Do you have an explanation for this behaviour?"
   ]
  },
  {
   "cell_type": "markdown",
   "metadata": {},
   "source": [
    "<a id=\"nbcreate\"></a>\n",
    "## Creating a larger \"special\" matrix\n",
    "I still hold up my claim that the method `np.linalg.solve()` is more efficient - just not in the special case above, but for all general cases where we have to deal with matrices that are *a lot* larger than the one we created above!\n",
    "\n",
    "**Exercise**: To explore this behaviour, here is your task:\n",
    "\n",
    "1. Write a function that creates a square matrix (N x N) of the form:\n",
    "\n",
    "$\\begin{bmatrix}\n",
    "-2 & 1 & 0 & 0 & \\cdots & 0\\\\\n",
    "1 & -2 & 1 &  0 & \\cdots & 0\\\\\n",
    "0 & 1 & -2 & 1 & \\cdots & 0\\\\\n",
    "\\vdots & & & & & \\vdots \\\\\n",
    "0 & \\cdots & 0 & 1 & -2 & 1 \\\\\n",
    "0 & \\cdots & 0 & 0 & 1 & -2\n",
    "\\end{bmatrix}$\n",
    "\n",
    "2. Create an array `b` of length N with b[0] = 10, b[N] = 20, else 0\n",
    "3. Solve the equation Ax = b with both methods above\n",
    "4. Time and compare the results"
   ]
  },
  {
   "cell_type": "code",
   "execution_count": null,
   "metadata": {},
   "outputs": [],
   "source": []
  },
  {
   "cell_type": "code",
   "execution_count": null,
   "metadata": {},
   "outputs": [],
   "source": []
  },
  {
   "cell_type": "markdown",
   "metadata": {},
   "source": [
    "## Extra: yet another way to speed up\n",
    "\n",
    "If we store the entire matrix in memory, we are in fact requiring a lot of memory space to store elements with no information (zeros), essentially a lot of overhead... and also a limitation, once we go to large matrices, as these will quickly require more memory than any reasonable computer has today. There should be a better way to store all of this information in a compressed form - and there is! \n",
    "\n",
    "The idea is to use sparse matrices, and this concept is implemented in the python package `scipy.sparse`:\n",
    "\n",
    "https://docs.scipy.org/doc/scipy/reference/sparse.html\n",
    "\n",
    "And here some more information:\n",
    "\n",
    "https://www.scipy-lectures.org/advanced/scipy_sparse/index.html\n",
    "\n",
    "In addition with the appropriate solvers, these sparse storage schemes do not only allow us to simulate larger problems, but also lead to an increase in efficiency due to far better memory handling.\n",
    "\n",
    "**Your task**: try it out: implement the above solution for the tridiagonal matrix using a sparse matrix representation and solver and compare solve time for increasingly large $n$:\n",
    "\n",
    "\n"
   ]
  },
  {
   "cell_type": "code",
   "execution_count": 37,
   "metadata": {},
   "outputs": [],
   "source": [
    "import scipy.sparse as sps"
   ]
  },
  {
   "cell_type": "code",
   "execution_count": 39,
   "metadata": {},
   "outputs": [],
   "source": [
    "import scipy"
   ]
  },
  {
   "cell_type": "code",
   "execution_count": 40,
   "metadata": {},
   "outputs": [
    {
     "data": {
      "text/plain": [
       "'1.1.0'"
      ]
     },
     "execution_count": 40,
     "metadata": {},
     "output_type": "execute_result"
    }
   ],
   "source": [
    "scipy.__version__\n"
   ]
  },
  {
   "cell_type": "code",
   "execution_count": null,
   "metadata": {},
   "outputs": [],
   "source": []
  }
 ],
 "metadata": {
  "hide_input": false,
  "kernelspec": {
   "display_name": "Python 3",
   "language": "python",
   "name": "python3"
  },
  "language_info": {
   "codemirror_mode": {
    "name": "ipython",
    "version": 3
   },
   "file_extension": ".py",
   "mimetype": "text/x-python",
   "name": "python",
   "nbconvert_exporter": "python",
   "pygments_lexer": "ipython3",
   "version": "3.7.4"
  },
  "toc": {
   "base_numbering": 1,
   "nav_menu": {},
   "number_sections": false,
   "sideBar": true,
   "skip_h1_title": false,
   "title_cell": "Table of Contents",
   "title_sidebar": "Contents",
   "toc_cell": false,
   "toc_position": {},
   "toc_section_display": true,
   "toc_window_display": false
  },
  "varInspector": {
   "cols": {
    "lenName": 16,
    "lenType": 16,
    "lenVar": 40
   },
   "kernels_config": {
    "python": {
     "delete_cmd_postfix": "",
     "delete_cmd_prefix": "del ",
     "library": "var_list.py",
     "varRefreshCmd": "print(var_dic_list())"
    },
    "r": {
     "delete_cmd_postfix": ") ",
     "delete_cmd_prefix": "rm(",
     "library": "var_list.r",
     "varRefreshCmd": "cat(var_dic_list()) "
    }
   },
   "types_to_exclude": [
    "module",
    "function",
    "builtin_function_or_method",
    "instance",
    "_Feature"
   ],
   "window_display": false
  }
 },
 "nbformat": 4,
 "nbformat_minor": 2
}
